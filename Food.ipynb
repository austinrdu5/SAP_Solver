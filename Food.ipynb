{
 "cells": [
  {
   "cell_type": "code",
   "execution_count": 2,
   "id": "1cbf2b7b",
   "metadata": {},
   "outputs": [],
   "source": [
    "%run data.ipynb"
   ]
  },
  {
   "cell_type": "code",
   "execution_count": 6,
   "id": "7984fe7d",
   "metadata": {},
   "outputs": [],
   "source": [
    "class Food():\n",
    "    def __init__(self, name):\n",
    "        data = foods_df.loc[name]\n",
    "        self.name = name\n",
    "        self.tier = data['Tier']\n",
    "        \n",
    "        target, n_targets, effect, effect_info = foods_df.loc[name, 'Target':'Effect_info']\n",
    "        self.target = target.__name__\n",
    "        self.effect = effect.__name__\n",
    "        self.target_func = target(n_targets=n_targets)\n",
    "        self.effect_func = effect(None, None, effect_info, 1)\n",
    "        \n",
    "        self.cost = 3\n",
    "        if self.name == 'Sleeping Pill':\n",
    "            self.cost = 1\n",
    "        self.targeted = isinstance(target, SelectedPet)\n",
    "        self.is_frozen = False\n",
    "        \n",
    "    def __repr__(self):\n",
    "        return self.name + (' (frozen)' if self.is_frozen else '')\n",
    "    \n",
    "    def use(self, targets, shop, cat_mult=1, verbose=False):\n",
    "        if self.target != 'SelectedPet':\n",
    "            targets = self.target_func(shop, True, [])\n",
    "        \n",
    "        self.effect_func(targets=targets, gamestate=shop, in_team1=True)\n",
    "        # cat aura\n",
    "        if self.effect == 'ModifyStats' and cat_mult > 1:\n",
    "            for _ in range(cat_mult - 1):\n",
    "                self.effect_func(targets=targets, gamestate=shop, in_team1=True)\n",
    "        \n",
    "        for pet in targets:\n",
    "            pet.trigger_dict['EatsShopFood'] += 1\n",
    "            \n",
    "        if verbose: print(f'Bought {self.name} for {[str(target) for target in targets]}')"
   ]
  },
  {
   "cell_type": "code",
   "execution_count": null,
   "id": "13f275cf",
   "metadata": {},
   "outputs": [],
   "source": []
  }
 ],
 "metadata": {
  "kernelspec": {
   "display_name": "Python 3 (ipykernel)",
   "language": "python",
   "name": "python3"
  },
  "language_info": {
   "codemirror_mode": {
    "name": "ipython",
    "version": 3
   },
   "file_extension": ".py",
   "mimetype": "text/x-python",
   "name": "python",
   "nbconvert_exporter": "python",
   "pygments_lexer": "ipython3",
   "version": "3.9.12"
  }
 },
 "nbformat": 4,
 "nbformat_minor": 5
}
