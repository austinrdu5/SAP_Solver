{
 "cells": [
  {
   "cell_type": "code",
   "execution_count": null,
   "id": "1b4dbf42",
   "metadata": {},
   "outputs": [],
   "source": [
    "import Effect"
   ]
  },
  {
   "cell_type": "code",
   "execution_count": 2,
   "id": "818ae8e5",
   "metadata": {},
   "outputs": [],
   "source": [
    "class Aura():\n",
    "    def __init__(self):\n",
    "        self.is_ability_aura = False\n",
    "        self.is_food_aura = False\n",
    "    \n",
    "    def use(self):\n",
    "        pass"
   ]
  }
 ],
 "metadata": {
  "kernelspec": {
   "display_name": "Python 3 (ipykernel)",
   "language": "python",
   "name": "python3"
  },
  "language_info": {
   "codemirror_mode": {
    "name": "ipython",
    "version": 3
   },
   "file_extension": ".py",
   "mimetype": "text/x-python",
   "name": "python",
   "nbconvert_exporter": "python",
   "pygments_lexer": "ipython3",
   "version": "3.9.7"
  }
 },
 "nbformat": 4,
 "nbformat_minor": 5
}
